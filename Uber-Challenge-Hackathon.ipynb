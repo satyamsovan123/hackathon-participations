{
 "cells": [
  {
   "cell_type": "code",
   "execution_count": 251,
   "metadata": {},
   "outputs": [],
   "source": [
    "friends_nodes = 4\n",
    "friends_edges = 5\n",
    "\n",
    "# friends_from = [1, 1, 2, 2]\n",
    "# friends_to = [3, 3, 4, 4]\n",
    "# friends_weight = [1, 2, 1, 2]\n",
    "\n",
    "# friends_from = [1, 1, 2, 2, 2]\n",
    "# friends_to = [2, 2, 3, 3, 4]\n",
    "# friends_weight = [1, 2, 1, 3, 3]\n",
    "\n",
    "friends_from = [1, 1, 2, 2, 2]\n",
    "friends_to = [2, 2, 3, 3, 4]\n",
    "friends_weight = [2, 3, 1, 3, 4]"
   ]
  },
  {
   "cell_type": "code",
   "execution_count": 252,
   "metadata": {},
   "outputs": [],
   "source": [
    "#trials\n",
    "\n",
    "# friends = {}\n",
    "# interests = []\n",
    "# for i in range(len(friends_from)):\n",
    "#     if friends_from[i] not in friends:\n",
    "#         friends[friends_from[i]] = interests\n",
    "        \n",
    "# for i in range(len(friends_to)):\n",
    "#     if friends_to[i] not in friends:\n",
    "#         friends[friends_to[i]] = interests\n",
    "\n",
    "# ls = []\n",
    "# for key, val in friends.items():\n",
    "#     ls.append(key)\n",
    "    \n",
    "# for i in range(len(friends_from)):\n",
    "#     print(friends_from[i])\n",
    "#     if friends_from[i] in ls:\n",
    "#         interests.append(friends_to[i])\n",
    "#         friends[friends_from[i]] = interests"
   ]
  },
  {
   "cell_type": "code",
   "execution_count": 253,
   "metadata": {},
   "outputs": [
    {
     "name": "stdout",
     "output_type": "stream",
     "text": [
      "[1, 1, 2, 2, 2, 2, 2, 3, 3, 4]\n",
      "[2, 3, 1, 3, 4, 2, 3, 1, 3, 4]\n",
      "1 2 ---> 2\n",
      "1 3 ---> 1\n",
      "1 4 ---> 0\n",
      "2 1 ---> 2\n",
      "2 3 ---> 2\n",
      "2 4 ---> 1\n",
      "3 1 ---> 1\n",
      "3 2 ---> 2\n",
      "3 4 ---> 0\n",
      "4 1 ---> 0\n",
      "4 2 ---> 1\n",
      "4 3 ---> 0\n",
      "{'12': 2, '13': 1, '14': 0, '21': 2, '23': 2, '24': 1, '31': 1, '32': 2, '34': 0, '41': 0, '42': 1, '43': 0}\n",
      "32\n",
      "Answer ---> 6\n"
     ]
    }
   ],
   "source": [
    "friends_list = friends_from + friends_to\n",
    "friends_interest = friends_weight + friends_weight\n",
    "print(res)\n",
    "print(friends_interest)\n",
    "dic = {}\n",
    "ints = []\n",
    "# for i in range(len(friends_list)):\n",
    "#     if friends_list[i] in dic:\n",
    "#         ints.append(friends_interest[i])\n",
    "#         dic[friends_list[i]] = ints\n",
    "#         ints = []\n",
    "#     else:\n",
    "#         dic[friends_list[i]] = friends_interest[i]\n",
    "\n",
    "for i in range(len(friends_list)):\n",
    "    if friends_list[i] not in dic:\n",
    "        dic[friends_list[i]] = ints\n",
    "\n",
    "for i in range(len(friends_list)):\n",
    "    if friends_list[i] in dic:\n",
    "        dic[friends_list[i]] = str(dic[friends_list[i]]) + str(friends_interest[i])\n",
    "\n",
    "# print(dic)\n",
    "common = {}\n",
    "answer = {}\n",
    "for key, val in dic.items():\n",
    "    common[key] = set(val.replace(\"[]\", \"\"))\n",
    "\n",
    "for i in range(1, len(common) + 1):\n",
    "    for j in range(1, len(common) + 1):\n",
    "        if j != i:\n",
    "            print(i, j, \"--->\", len(common[i].intersection(common[j])))\n",
    "            answer[str(i) + str(j)] = len(common[i].intersection(common[j]))\n",
    "            \n",
    "print(answer)\n",
    "sortedAnswer = (sorted(answer, key = answer.get))\n",
    "print(int(sortedAnswer[len(sortedAnswer) - 1]))\n",
    "\n",
    "def multiply(no):\n",
    "    prod = 1\n",
    "    rem = 0\n",
    "    while(no != 0):\n",
    "        rem = no % 10\n",
    "        prod = prod * rem\n",
    "        no = int(no / 10)\n",
    "    return prod\n",
    "\n",
    "print(\"Answer ---> {}\".format(multiply(int(sortedAnswer[len(sortedAnswer) - 1]))))\n",
    "\n"
   ]
  },
  {
   "cell_type": "markdown",
   "metadata": {},
   "source": [
    "# This was one of the graph realted question asked to me in Uber's Hackathon (Round 2). Unfortunately, my little brain went for a brief hiatus! Code Signal - March 6 2021\n",
    "\n",
    "P.S THE SOLUTION ISN'T OPTIMAL AND DOESN'T HARNESS THE POWER OF GRAPH, BUT NEVERTHELESS, SOLUTION IS SOLUTION.\n",
    "\n",
    "\n",
    "QUESTION: \n",
    "\n",
    "In the world of game of thrones power is everything. Given a network of friends in the world of game of thrones who have different interests, you'd like to know the power of the couple who have the most common interests. You are given integers friends_nodes and friends_edges, representing the number of nodes and edges in the network respectively. You are also given three arrays of integers, friends_from, friends_to, and friends_interest, which describe the edges between friends. The ith edge in the input is represented by its vertices - friends_from[i] and friends_to[i] and the interest these two vertices has in common - friends_interest[i]. The graph consists of nodes numbered consecutively from 1 to friends_nodes. Any two friends a and b that are connected by an edge with some interest are said to be in the same interest group. Then, for each interest we have a interest group. Note that two members can be in an interest group even if they are not directly connected by the corresponding edge. For example, if friends 1 and 2 are connected by an edge with interest 5, as well as friends 2 and 3, all three friends are in an interest group, even though friends 1 and 3 doesn't have a corresponding edge with interest 5 connecting them.\n",
    "Each pair of friends in the found set are said to have a shared interest. For example, in the example above all pairs (1, 2), (1, 3), and (2, 3) will have a shared interest 5. Power is defined as the product of node pairs' labels. Your next step is to determine the power couple with the maximum number of shared interests. If there are multiple pairs with the maximum number of shared interests, return the maximum product among them.\n",
    "\n",
    "Example\n",
    "\t•\tFor friends_nodes = 4, friends_edges = 5, friends_from = [1, 1, 2, 2, 2], friends_to = [2, 2, 3, 3, 4], and friends_weight = [1, 2, 1, 3, 3], the output should be sharedInterests(friends_nodes, friends_edges, friends_from, friends_to, friends_weight) = 6.\n",
    "    Each pair among the 4 friends is connected by the following interests:\n",
    "\t◦\tPair (1, 2) shares 2 interests (interests 1 and 2)\n",
    "\t◦\tPair (1, 3) shares 1 interest (interest 1)\n",
    "\t◦\tPair (1, 4) shares 0 interests\n",
    "\t◦\tPair (2, 3) shares 2 interests (interests 1 and 3)\n",
    "\t◦\tPair (2, 4) shares 1 interest (interest 3)\n",
    "\t◦\tPair (3, 4) shares 1 interest (interest 3). Note that even though these two friends are not directly connected by an edge, they still share a common interest.\n",
    "\t•\tThe pairs with the maximal number of shared interests are (1, 2) and (2, 3). Their respective products are 1 × 2 = 2 and 2 × 3 = 6. We then return the largest of these values as our answer, which is 6. ",
    "\n",
    "\t•\tFor friends_nodes = 4, friends_edges = 4, friends_from = [1, 1, 2, 2], friends_to = [3, 3, 4, 4], and friends_weight = [1, 2, 1, 2], the output should be sharedInterests(friends_nodes, friends_edges, friends_from, friends_to, friends_weight) = 12. Interests 1 and 2 are both shared between friends (1, 3) and between friends (2, 4). Thus, both of these two interests are shared between all friends and each pair of friends has both of these interests shared in common. The maximal product of friends node numbers is 3 × 4 = 12.\n"
   ]
  },
  {
   "cell_type": "code",
   "execution_count": null,
   "metadata": {},
   "outputs": [],
   "source": []
  },
  {
   "cell_type": "code",
   "execution_count": null,
   "metadata": {},
   "outputs": [],
   "source": []
  },
  {
   "cell_type": "code",
   "execution_count": null,
   "metadata": {},
   "outputs": [],
   "source": []
  }
 ],
 "metadata": {
  "kernelspec": {
   "display_name": "Python 3",
   "language": "python",
   "name": "python3"
  },
  "language_info": {
   "codemirror_mode": {
    "name": "ipython",
    "version": 3
   },
   "file_extension": ".py",
   "mimetype": "text/x-python",
   "name": "python",
   "nbconvert_exporter": "python",
   "pygments_lexer": "ipython3",
   "version": "3.8.5"
  }
 },
 "nbformat": 4,
 "nbformat_minor": 4
}
